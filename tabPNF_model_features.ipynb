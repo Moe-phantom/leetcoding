{
  "nbformat": 4,
  "nbformat_minor": 0,
  "metadata": {
    "colab": {
      "provenance": [],
      "gpuType": "T4",
      "authorship_tag": "ABX9TyOeC/U0r6B7ESpH+LgmVbW5",
      "include_colab_link": true
    },
    "kernelspec": {
      "name": "python3",
      "display_name": "Python 3"
    },
    "language_info": {
      "name": "python"
    },
    "accelerator": "GPU",
    "widgets": {
      "application/vnd.jupyter.widget-state+json": {
        "c4616756200549af82baff0708014710": {
          "model_module": "@jupyter-widgets/controls",
          "model_name": "HBoxModel",
          "model_module_version": "1.5.0",
          "state": {
            "_dom_classes": [],
            "_model_module": "@jupyter-widgets/controls",
            "_model_module_version": "1.5.0",
            "_model_name": "HBoxModel",
            "_view_count": null,
            "_view_module": "@jupyter-widgets/controls",
            "_view_module_version": "1.5.0",
            "_view_name": "HBoxView",
            "box_style": "",
            "children": [
              "IPY_MODEL_ab59e700280943c69e862a464a324dbc",
              "IPY_MODEL_2e589489cc8a451492a670b7c4556e55",
              "IPY_MODEL_646cd3269d534206aa94c8c093e6498d"
            ],
            "layout": "IPY_MODEL_4f0a6de95b5d450490fc161534377a7a"
          }
        },
        "ab59e700280943c69e862a464a324dbc": {
          "model_module": "@jupyter-widgets/controls",
          "model_name": "HTMLModel",
          "model_module_version": "1.5.0",
          "state": {
            "_dom_classes": [],
            "_model_module": "@jupyter-widgets/controls",
            "_model_module_version": "1.5.0",
            "_model_name": "HTMLModel",
            "_view_count": null,
            "_view_module": "@jupyter-widgets/controls",
            "_view_module_version": "1.5.0",
            "_view_name": "HTMLView",
            "description": "",
            "description_tooltip": null,
            "layout": "IPY_MODEL_ad3f7bdda16c4b97a5b7a7d5805401d8",
            "placeholder": "​",
            "style": "IPY_MODEL_efcfdffe109148058834087226586817",
            "value": "tabpfn-v2-classifier-finetuned-zk73skhh.(…): 100%"
          }
        },
        "2e589489cc8a451492a670b7c4556e55": {
          "model_module": "@jupyter-widgets/controls",
          "model_name": "FloatProgressModel",
          "model_module_version": "1.5.0",
          "state": {
            "_dom_classes": [],
            "_model_module": "@jupyter-widgets/controls",
            "_model_module_version": "1.5.0",
            "_model_name": "FloatProgressModel",
            "_view_count": null,
            "_view_module": "@jupyter-widgets/controls",
            "_view_module_version": "1.5.0",
            "_view_name": "ProgressView",
            "bar_style": "success",
            "description": "",
            "description_tooltip": null,
            "layout": "IPY_MODEL_adfc09cb8841476cb5f064ddf48ef4dc",
            "max": 29009539,
            "min": 0,
            "orientation": "horizontal",
            "style": "IPY_MODEL_a6bfb80cd4814b7ab8a862672c0cdd5e",
            "value": 29009539
          }
        },
        "646cd3269d534206aa94c8c093e6498d": {
          "model_module": "@jupyter-widgets/controls",
          "model_name": "HTMLModel",
          "model_module_version": "1.5.0",
          "state": {
            "_dom_classes": [],
            "_model_module": "@jupyter-widgets/controls",
            "_model_module_version": "1.5.0",
            "_model_name": "HTMLModel",
            "_view_count": null,
            "_view_module": "@jupyter-widgets/controls",
            "_view_module_version": "1.5.0",
            "_view_name": "HTMLView",
            "description": "",
            "description_tooltip": null,
            "layout": "IPY_MODEL_e4aa723d5a86430da70624776feb7483",
            "placeholder": "​",
            "style": "IPY_MODEL_06bc6047e9964e98b712a651b1607c34",
            "value": " 29.0M/29.0M [00:00&lt;00:00, 36.9MB/s]"
          }
        },
        "4f0a6de95b5d450490fc161534377a7a": {
          "model_module": "@jupyter-widgets/base",
          "model_name": "LayoutModel",
          "model_module_version": "1.2.0",
          "state": {
            "_model_module": "@jupyter-widgets/base",
            "_model_module_version": "1.2.0",
            "_model_name": "LayoutModel",
            "_view_count": null,
            "_view_module": "@jupyter-widgets/base",
            "_view_module_version": "1.2.0",
            "_view_name": "LayoutView",
            "align_content": null,
            "align_items": null,
            "align_self": null,
            "border": null,
            "bottom": null,
            "display": null,
            "flex": null,
            "flex_flow": null,
            "grid_area": null,
            "grid_auto_columns": null,
            "grid_auto_flow": null,
            "grid_auto_rows": null,
            "grid_column": null,
            "grid_gap": null,
            "grid_row": null,
            "grid_template_areas": null,
            "grid_template_columns": null,
            "grid_template_rows": null,
            "height": null,
            "justify_content": null,
            "justify_items": null,
            "left": null,
            "margin": null,
            "max_height": null,
            "max_width": null,
            "min_height": null,
            "min_width": null,
            "object_fit": null,
            "object_position": null,
            "order": null,
            "overflow": null,
            "overflow_x": null,
            "overflow_y": null,
            "padding": null,
            "right": null,
            "top": null,
            "visibility": null,
            "width": null
          }
        },
        "ad3f7bdda16c4b97a5b7a7d5805401d8": {
          "model_module": "@jupyter-widgets/base",
          "model_name": "LayoutModel",
          "model_module_version": "1.2.0",
          "state": {
            "_model_module": "@jupyter-widgets/base",
            "_model_module_version": "1.2.0",
            "_model_name": "LayoutModel",
            "_view_count": null,
            "_view_module": "@jupyter-widgets/base",
            "_view_module_version": "1.2.0",
            "_view_name": "LayoutView",
            "align_content": null,
            "align_items": null,
            "align_self": null,
            "border": null,
            "bottom": null,
            "display": null,
            "flex": null,
            "flex_flow": null,
            "grid_area": null,
            "grid_auto_columns": null,
            "grid_auto_flow": null,
            "grid_auto_rows": null,
            "grid_column": null,
            "grid_gap": null,
            "grid_row": null,
            "grid_template_areas": null,
            "grid_template_columns": null,
            "grid_template_rows": null,
            "height": null,
            "justify_content": null,
            "justify_items": null,
            "left": null,
            "margin": null,
            "max_height": null,
            "max_width": null,
            "min_height": null,
            "min_width": null,
            "object_fit": null,
            "object_position": null,
            "order": null,
            "overflow": null,
            "overflow_x": null,
            "overflow_y": null,
            "padding": null,
            "right": null,
            "top": null,
            "visibility": null,
            "width": null
          }
        },
        "efcfdffe109148058834087226586817": {
          "model_module": "@jupyter-widgets/controls",
          "model_name": "DescriptionStyleModel",
          "model_module_version": "1.5.0",
          "state": {
            "_model_module": "@jupyter-widgets/controls",
            "_model_module_version": "1.5.0",
            "_model_name": "DescriptionStyleModel",
            "_view_count": null,
            "_view_module": "@jupyter-widgets/base",
            "_view_module_version": "1.2.0",
            "_view_name": "StyleView",
            "description_width": ""
          }
        },
        "adfc09cb8841476cb5f064ddf48ef4dc": {
          "model_module": "@jupyter-widgets/base",
          "model_name": "LayoutModel",
          "model_module_version": "1.2.0",
          "state": {
            "_model_module": "@jupyter-widgets/base",
            "_model_module_version": "1.2.0",
            "_model_name": "LayoutModel",
            "_view_count": null,
            "_view_module": "@jupyter-widgets/base",
            "_view_module_version": "1.2.0",
            "_view_name": "LayoutView",
            "align_content": null,
            "align_items": null,
            "align_self": null,
            "border": null,
            "bottom": null,
            "display": null,
            "flex": null,
            "flex_flow": null,
            "grid_area": null,
            "grid_auto_columns": null,
            "grid_auto_flow": null,
            "grid_auto_rows": null,
            "grid_column": null,
            "grid_gap": null,
            "grid_row": null,
            "grid_template_areas": null,
            "grid_template_columns": null,
            "grid_template_rows": null,
            "height": null,
            "justify_content": null,
            "justify_items": null,
            "left": null,
            "margin": null,
            "max_height": null,
            "max_width": null,
            "min_height": null,
            "min_width": null,
            "object_fit": null,
            "object_position": null,
            "order": null,
            "overflow": null,
            "overflow_x": null,
            "overflow_y": null,
            "padding": null,
            "right": null,
            "top": null,
            "visibility": null,
            "width": null
          }
        },
        "a6bfb80cd4814b7ab8a862672c0cdd5e": {
          "model_module": "@jupyter-widgets/controls",
          "model_name": "ProgressStyleModel",
          "model_module_version": "1.5.0",
          "state": {
            "_model_module": "@jupyter-widgets/controls",
            "_model_module_version": "1.5.0",
            "_model_name": "ProgressStyleModel",
            "_view_count": null,
            "_view_module": "@jupyter-widgets/base",
            "_view_module_version": "1.2.0",
            "_view_name": "StyleView",
            "bar_color": null,
            "description_width": ""
          }
        },
        "e4aa723d5a86430da70624776feb7483": {
          "model_module": "@jupyter-widgets/base",
          "model_name": "LayoutModel",
          "model_module_version": "1.2.0",
          "state": {
            "_model_module": "@jupyter-widgets/base",
            "_model_module_version": "1.2.0",
            "_model_name": "LayoutModel",
            "_view_count": null,
            "_view_module": "@jupyter-widgets/base",
            "_view_module_version": "1.2.0",
            "_view_name": "LayoutView",
            "align_content": null,
            "align_items": null,
            "align_self": null,
            "border": null,
            "bottom": null,
            "display": null,
            "flex": null,
            "flex_flow": null,
            "grid_area": null,
            "grid_auto_columns": null,
            "grid_auto_flow": null,
            "grid_auto_rows": null,
            "grid_column": null,
            "grid_gap": null,
            "grid_row": null,
            "grid_template_areas": null,
            "grid_template_columns": null,
            "grid_template_rows": null,
            "height": null,
            "justify_content": null,
            "justify_items": null,
            "left": null,
            "margin": null,
            "max_height": null,
            "max_width": null,
            "min_height": null,
            "min_width": null,
            "object_fit": null,
            "object_position": null,
            "order": null,
            "overflow": null,
            "overflow_x": null,
            "overflow_y": null,
            "padding": null,
            "right": null,
            "top": null,
            "visibility": null,
            "width": null
          }
        },
        "06bc6047e9964e98b712a651b1607c34": {
          "model_module": "@jupyter-widgets/controls",
          "model_name": "DescriptionStyleModel",
          "model_module_version": "1.5.0",
          "state": {
            "_model_module": "@jupyter-widgets/controls",
            "_model_module_version": "1.5.0",
            "_model_name": "DescriptionStyleModel",
            "_view_count": null,
            "_view_module": "@jupyter-widgets/base",
            "_view_module_version": "1.2.0",
            "_view_name": "StyleView",
            "description_width": ""
          }
        },
        "43b8d17742a047cbb459ee8be80aad6c": {
          "model_module": "@jupyter-widgets/controls",
          "model_name": "HBoxModel",
          "model_module_version": "1.5.0",
          "state": {
            "_dom_classes": [],
            "_model_module": "@jupyter-widgets/controls",
            "_model_module_version": "1.5.0",
            "_model_name": "HBoxModel",
            "_view_count": null,
            "_view_module": "@jupyter-widgets/controls",
            "_view_module_version": "1.5.0",
            "_view_name": "HBoxView",
            "box_style": "",
            "children": [
              "IPY_MODEL_0b56dc4bd6cd4c289e4731d9e6b4d216",
              "IPY_MODEL_aa8000dc75c149719c19b3ff67e3a2ce",
              "IPY_MODEL_ff4969536d9b4fd78a0ce047bdffcf85"
            ],
            "layout": "IPY_MODEL_76b6e6e7a13e47689fdba92a991c3801"
          }
        },
        "0b56dc4bd6cd4c289e4731d9e6b4d216": {
          "model_module": "@jupyter-widgets/controls",
          "model_name": "HTMLModel",
          "model_module_version": "1.5.0",
          "state": {
            "_dom_classes": [],
            "_model_module": "@jupyter-widgets/controls",
            "_model_module_version": "1.5.0",
            "_model_name": "HTMLModel",
            "_view_count": null,
            "_view_module": "@jupyter-widgets/controls",
            "_view_module_version": "1.5.0",
            "_view_name": "HTMLView",
            "description": "",
            "description_tooltip": null,
            "layout": "IPY_MODEL_1c06dbdb13204801b8928571e48b9fbd",
            "placeholder": "​",
            "style": "IPY_MODEL_2738c31139c446d4ad840a6b5a7945ae",
            "value": "config.json: 100%"
          }
        },
        "aa8000dc75c149719c19b3ff67e3a2ce": {
          "model_module": "@jupyter-widgets/controls",
          "model_name": "FloatProgressModel",
          "model_module_version": "1.5.0",
          "state": {
            "_dom_classes": [],
            "_model_module": "@jupyter-widgets/controls",
            "_model_module_version": "1.5.0",
            "_model_name": "FloatProgressModel",
            "_view_count": null,
            "_view_module": "@jupyter-widgets/controls",
            "_view_module_version": "1.5.0",
            "_view_name": "ProgressView",
            "bar_style": "success",
            "description": "",
            "description_tooltip": null,
            "layout": "IPY_MODEL_2fff52ea583d4abfa43e5925ff00f245",
            "max": 37,
            "min": 0,
            "orientation": "horizontal",
            "style": "IPY_MODEL_a9660d952189478ea570198146b7219c",
            "value": 37
          }
        },
        "ff4969536d9b4fd78a0ce047bdffcf85": {
          "model_module": "@jupyter-widgets/controls",
          "model_name": "HTMLModel",
          "model_module_version": "1.5.0",
          "state": {
            "_dom_classes": [],
            "_model_module": "@jupyter-widgets/controls",
            "_model_module_version": "1.5.0",
            "_model_name": "HTMLModel",
            "_view_count": null,
            "_view_module": "@jupyter-widgets/controls",
            "_view_module_version": "1.5.0",
            "_view_name": "HTMLView",
            "description": "",
            "description_tooltip": null,
            "layout": "IPY_MODEL_24471e7d046f4ba1a651bd52157e09d1",
            "placeholder": "​",
            "style": "IPY_MODEL_ebcfc5a8785d442bbe567ec525ecdd93",
            "value": " 37.0/37.0 [00:00&lt;00:00, 4.42kB/s]"
          }
        },
        "76b6e6e7a13e47689fdba92a991c3801": {
          "model_module": "@jupyter-widgets/base",
          "model_name": "LayoutModel",
          "model_module_version": "1.2.0",
          "state": {
            "_model_module": "@jupyter-widgets/base",
            "_model_module_version": "1.2.0",
            "_model_name": "LayoutModel",
            "_view_count": null,
            "_view_module": "@jupyter-widgets/base",
            "_view_module_version": "1.2.0",
            "_view_name": "LayoutView",
            "align_content": null,
            "align_items": null,
            "align_self": null,
            "border": null,
            "bottom": null,
            "display": null,
            "flex": null,
            "flex_flow": null,
            "grid_area": null,
            "grid_auto_columns": null,
            "grid_auto_flow": null,
            "grid_auto_rows": null,
            "grid_column": null,
            "grid_gap": null,
            "grid_row": null,
            "grid_template_areas": null,
            "grid_template_columns": null,
            "grid_template_rows": null,
            "height": null,
            "justify_content": null,
            "justify_items": null,
            "left": null,
            "margin": null,
            "max_height": null,
            "max_width": null,
            "min_height": null,
            "min_width": null,
            "object_fit": null,
            "object_position": null,
            "order": null,
            "overflow": null,
            "overflow_x": null,
            "overflow_y": null,
            "padding": null,
            "right": null,
            "top": null,
            "visibility": null,
            "width": null
          }
        },
        "1c06dbdb13204801b8928571e48b9fbd": {
          "model_module": "@jupyter-widgets/base",
          "model_name": "LayoutModel",
          "model_module_version": "1.2.0",
          "state": {
            "_model_module": "@jupyter-widgets/base",
            "_model_module_version": "1.2.0",
            "_model_name": "LayoutModel",
            "_view_count": null,
            "_view_module": "@jupyter-widgets/base",
            "_view_module_version": "1.2.0",
            "_view_name": "LayoutView",
            "align_content": null,
            "align_items": null,
            "align_self": null,
            "border": null,
            "bottom": null,
            "display": null,
            "flex": null,
            "flex_flow": null,
            "grid_area": null,
            "grid_auto_columns": null,
            "grid_auto_flow": null,
            "grid_auto_rows": null,
            "grid_column": null,
            "grid_gap": null,
            "grid_row": null,
            "grid_template_areas": null,
            "grid_template_columns": null,
            "grid_template_rows": null,
            "height": null,
            "justify_content": null,
            "justify_items": null,
            "left": null,
            "margin": null,
            "max_height": null,
            "max_width": null,
            "min_height": null,
            "min_width": null,
            "object_fit": null,
            "object_position": null,
            "order": null,
            "overflow": null,
            "overflow_x": null,
            "overflow_y": null,
            "padding": null,
            "right": null,
            "top": null,
            "visibility": null,
            "width": null
          }
        },
        "2738c31139c446d4ad840a6b5a7945ae": {
          "model_module": "@jupyter-widgets/controls",
          "model_name": "DescriptionStyleModel",
          "model_module_version": "1.5.0",
          "state": {
            "_model_module": "@jupyter-widgets/controls",
            "_model_module_version": "1.5.0",
            "_model_name": "DescriptionStyleModel",
            "_view_count": null,
            "_view_module": "@jupyter-widgets/base",
            "_view_module_version": "1.2.0",
            "_view_name": "StyleView",
            "description_width": ""
          }
        },
        "2fff52ea583d4abfa43e5925ff00f245": {
          "model_module": "@jupyter-widgets/base",
          "model_name": "LayoutModel",
          "model_module_version": "1.2.0",
          "state": {
            "_model_module": "@jupyter-widgets/base",
            "_model_module_version": "1.2.0",
            "_model_name": "LayoutModel",
            "_view_count": null,
            "_view_module": "@jupyter-widgets/base",
            "_view_module_version": "1.2.0",
            "_view_name": "LayoutView",
            "align_content": null,
            "align_items": null,
            "align_self": null,
            "border": null,
            "bottom": null,
            "display": null,
            "flex": null,
            "flex_flow": null,
            "grid_area": null,
            "grid_auto_columns": null,
            "grid_auto_flow": null,
            "grid_auto_rows": null,
            "grid_column": null,
            "grid_gap": null,
            "grid_row": null,
            "grid_template_areas": null,
            "grid_template_columns": null,
            "grid_template_rows": null,
            "height": null,
            "justify_content": null,
            "justify_items": null,
            "left": null,
            "margin": null,
            "max_height": null,
            "max_width": null,
            "min_height": null,
            "min_width": null,
            "object_fit": null,
            "object_position": null,
            "order": null,
            "overflow": null,
            "overflow_x": null,
            "overflow_y": null,
            "padding": null,
            "right": null,
            "top": null,
            "visibility": null,
            "width": null
          }
        },
        "a9660d952189478ea570198146b7219c": {
          "model_module": "@jupyter-widgets/controls",
          "model_name": "ProgressStyleModel",
          "model_module_version": "1.5.0",
          "state": {
            "_model_module": "@jupyter-widgets/controls",
            "_model_module_version": "1.5.0",
            "_model_name": "ProgressStyleModel",
            "_view_count": null,
            "_view_module": "@jupyter-widgets/base",
            "_view_module_version": "1.2.0",
            "_view_name": "StyleView",
            "bar_color": null,
            "description_width": ""
          }
        },
        "24471e7d046f4ba1a651bd52157e09d1": {
          "model_module": "@jupyter-widgets/base",
          "model_name": "LayoutModel",
          "model_module_version": "1.2.0",
          "state": {
            "_model_module": "@jupyter-widgets/base",
            "_model_module_version": "1.2.0",
            "_model_name": "LayoutModel",
            "_view_count": null,
            "_view_module": "@jupyter-widgets/base",
            "_view_module_version": "1.2.0",
            "_view_name": "LayoutView",
            "align_content": null,
            "align_items": null,
            "align_self": null,
            "border": null,
            "bottom": null,
            "display": null,
            "flex": null,
            "flex_flow": null,
            "grid_area": null,
            "grid_auto_columns": null,
            "grid_auto_flow": null,
            "grid_auto_rows": null,
            "grid_column": null,
            "grid_gap": null,
            "grid_row": null,
            "grid_template_areas": null,
            "grid_template_columns": null,
            "grid_template_rows": null,
            "height": null,
            "justify_content": null,
            "justify_items": null,
            "left": null,
            "margin": null,
            "max_height": null,
            "max_width": null,
            "min_height": null,
            "min_width": null,
            "object_fit": null,
            "object_position": null,
            "order": null,
            "overflow": null,
            "overflow_x": null,
            "overflow_y": null,
            "padding": null,
            "right": null,
            "top": null,
            "visibility": null,
            "width": null
          }
        },
        "ebcfc5a8785d442bbe567ec525ecdd93": {
          "model_module": "@jupyter-widgets/controls",
          "model_name": "DescriptionStyleModel",
          "model_module_version": "1.5.0",
          "state": {
            "_model_module": "@jupyter-widgets/controls",
            "_model_module_version": "1.5.0",
            "_model_name": "DescriptionStyleModel",
            "_view_count": null,
            "_view_module": "@jupyter-widgets/base",
            "_view_module_version": "1.2.0",
            "_view_name": "StyleView",
            "description_width": ""
          }
        }
      }
    }
  },
  "cells": [
    {
      "cell_type": "markdown",
      "metadata": {
        "id": "view-in-github",
        "colab_type": "text"
      },
      "source": [
        "<a href=\"https://colab.research.google.com/github/Moe-phantom/leetcoding/blob/main/tabPNF_model_features.ipynb\" target=\"_parent\"><img src=\"https://colab.research.google.com/assets/colab-badge.svg\" alt=\"Open In Colab\"/></a>"
      ]
    },
    {
      "cell_type": "code",
      "source": [
        "!pip install torch torchvision torchaudio --index-url https://download.pytorch.org/whl/cu121 -q\n",
        "!pip install tabpfn[gpu] --upgrade -q"
      ],
      "metadata": {
        "colab": {
          "base_uri": "https://localhost:8080/"
        },
        "id": "M6irPb_XI3Rv",
        "outputId": "21aab768-edbd-4cd3-ae2d-823e4f94b315"
      },
      "execution_count": 12,
      "outputs": [
        {
          "output_type": "stream",
          "name": "stdout",
          "text": [
            "\u001b[33mWARNING: tabpfn 2.2.1 does not provide the extra 'gpu'\u001b[0m\u001b[33m\n",
            "\u001b[2K   \u001b[90m━━━━━━━━━━━━━━━━━━━━━━━━━━━━━━━━━━━━━━━━\u001b[0m \u001b[32m173.7/173.7 kB\u001b[0m \u001b[31m7.9 MB/s\u001b[0m eta \u001b[36m0:00:00\u001b[0m\n",
            "\u001b[2K   \u001b[90m━━━━━━━━━━━━━━━━━━━━━━━━━━━━━━━━━━━━━━━━\u001b[0m \u001b[32m137.3/137.3 kB\u001b[0m \u001b[31m12.6 MB/s\u001b[0m eta \u001b[36m0:00:00\u001b[0m\n",
            "\u001b[2K   \u001b[90m━━━━━━━━━━━━━━━━━━━━━━━━━━━━━━━━━━━━━━━━\u001b[0m \u001b[32m64.7/64.7 kB\u001b[0m \u001b[31m4.3 MB/s\u001b[0m eta \u001b[36m0:00:00\u001b[0m\n",
            "\u001b[?25h\u001b[31mERROR: pip's dependency resolver does not currently take into account all the packages that are installed. This behaviour is the source of the following dependency conflicts.\n",
            "google-colab 1.0.0 requires requests==2.32.4, but you have requests 2.32.5 which is incompatible.\u001b[0m\u001b[31m\n",
            "\u001b[0m"
          ]
        }
      ]
    },
    {
      "cell_type": "code",
      "source": [
        "import pandas as pd\n",
        "import numpy as np\n",
        "import matplotlib.pyplot as plt\n",
        "import seaborn as sns\n",
        "from sklearn.model_selection import train_test_split, StratifiedKFold\n",
        "from sklearn.preprocessing import LabelEncoder\n",
        "from sklearn.metrics import classification_report, confusion_matrix, accuracy_score, balanced_accuracy_score\n",
        "from sklearn.impute import SimpleImputer\n",
        "from sklearn.inspection import permutation_importance  # ✅ ADD THIS LINE\n",
        "import warnings\n",
        "import pickle\n",
        "import os"
      ],
      "metadata": {
        "id": "80uif6O39brl"
      },
      "execution_count": 25,
      "outputs": []
    },
    {
      "cell_type": "code",
      "execution_count": 13,
      "metadata": {
        "colab": {
          "base_uri": "https://localhost:8080/"
        },
        "id": "0kMZdGN0IxAk",
        "outputId": "36344434-7458-4bb6-a16f-6ec1e1500ed9"
      },
      "outputs": [
        {
          "output_type": "stream",
          "name": "stdout",
          "text": [
            "PyTorch version: 2.8.0+cu126\n",
            "CUDA available: True\n",
            "CUDA device: Tesla T4\n"
          ]
        }
      ],
      "source": [
        "\n",
        "# ==============================\n",
        "# Import after installation\n",
        "# ==============================\n",
        "\n",
        "warnings.filterwarnings('ignore')\n",
        "\n",
        "# 🔥 CRITICAL: Import torch AFTER installation to check CUDA\n",
        "import torch\n",
        "print(f\"PyTorch version: {torch.__version__}\")\n",
        "print(f\"CUDA available: {torch.cuda.is_available()}\")\n",
        "if torch.cuda.is_available():\n",
        "    print(f\"CUDA device: {torch.cuda.get_device_name(0)}\")\n"
      ]
    },
    {
      "cell_type": "code",
      "source": [
        "# ==============================\n",
        "# Configuration\n",
        "# ==============================\n",
        "RANDOM_STATE = 42\n",
        "TEST_SIZE = 0.2\n",
        "MAX_TRAIN_SIZE = 1024  # TabPFN limit\n",
        "TARGET_CP_SIZE = 3678\n",
        "# ==============================\n",
        "# Load Data\n",
        "# ==============================\n",
        "\n",
        "csv_path = '/content/TOI_2025.09.28_05.51.22.csv'  # UPDATE THIS PATH\n",
        "if not os.path.exists(csv_path):\n",
        "    raise FileNotFoundError(f\"CSV file not found at {csv_path}. Please update the path.\")\n",
        "\n",
        "df = pd.read_csv(csv_path, comment='#')\n",
        "print(f\"Dataset shape: {df.shape}\")\n"
      ],
      "metadata": {
        "colab": {
          "base_uri": "https://localhost:8080/"
        },
        "id": "jUiZxBtbJERj",
        "outputId": "157b266d-d0c2-4b0b-d3c5-026df05806f0"
      },
      "execution_count": 14,
      "outputs": [
        {
          "output_type": "stream",
          "name": "stdout",
          "text": [
            "Dataset shape: (7699, 27)\n"
          ]
        }
      ]
    },
    {
      "cell_type": "code",
      "source": [
        "# ==============================\n",
        "# Target & Features\n",
        "# ==============================\n",
        "target_col = 'tfopwg_disp'\n",
        "\n",
        "# Define semantic groups\n",
        "PLANET_CLASSES = ['PC', 'CP', 'KP']      # Confirmed + Known Planets\n",
        "FALSE_POS_CLASSES = ['FA', 'FP']   # False Alarms + False Positives\n",
        "DROP_CLASSES = ['APC']             # Ambiguous — drop entirely\n",
        "\n",
        "df_clean = df[~df[target_col].isin(DROP_CLASSES)].copy()\n",
        "print(f\"After dropping APC: {df_clean.shape}\")\n",
        "\n",
        "# Separate CP for downsampling\n",
        "cp_mask = df_clean[target_col] == 'PC'\n",
        "cp_data = df_clean[cp_mask]\n",
        "non_cp_data = df_clean[~cp_mask]\n",
        "\n"
      ],
      "metadata": {
        "colab": {
          "base_uri": "https://localhost:8080/"
        },
        "id": "Bnj1sxB8JdU3",
        "outputId": "1f600b6a-4ce1-4dba-d55a-40a2f1f6aad6"
      },
      "execution_count": 28,
      "outputs": [
        {
          "output_type": "stream",
          "name": "stdout",
          "text": [
            "After dropping APC: (7238, 27)\n"
          ]
        }
      ]
    },
    {
      "cell_type": "code",
      "source": [
        "if len(cp_data) > TARGET_CP_SIZE:\n",
        "    cp_data = cp_data.sample(n=TARGET_CP_SIZE, random_state=RANDOM_STATE)\n",
        "    print(f\"Downsampled CP from {len(df_clean[cp_mask])} to {TARGET_CP_SIZE}\")\n",
        "\n",
        "# Recombine\n",
        "df_balanced = pd.concat([cp_data, non_cp_data], ignore_index=True)"
      ],
      "metadata": {
        "colab": {
          "base_uri": "https://localhost:8080/"
        },
        "id": "o_HZEuK642cC",
        "outputId": "b665397c-a6cd-49ea-badd-7d6a09a52803"
      },
      "execution_count": 29,
      "outputs": [
        {
          "output_type": "stream",
          "name": "stdout",
          "text": [
            "Downsampled CP from 4678 to 3678\n"
          ]
        }
      ]
    },
    {
      "cell_type": "code",
      "source": [
        "# Recombine\n",
        "df_balanced = pd.concat([cp_data, non_cp_data], ignore_index=True)\n",
        "\n",
        "# Create binary target\n",
        "def map_to_binary(label):\n",
        "    if label in PLANET_CLASSES:\n",
        "        return 'Planet'\n",
        "    elif label in FALSE_POS_CLASSES:\n",
        "        return 'False Positive'\n",
        "    else:\n",
        "        return None  # Should not happen\n",
        "df_balanced['binary_target'] = df_balanced[target_col].map(map_to_binary)\n",
        "df_balanced = df_balanced.dropna(subset=['binary_target'])\n",
        "\n",
        "print(\"\\nBalanced class distribution:\")\n",
        "print(df_balanced['binary_target'].value_counts())"
      ],
      "metadata": {
        "colab": {
          "base_uri": "https://localhost:8080/"
        },
        "id": "-BdScad35BTA",
        "outputId": "59f3f04c-58e5-447e-f2af-db7b77a3dda3"
      },
      "execution_count": 30,
      "outputs": [
        {
          "output_type": "stream",
          "name": "stdout",
          "text": [
            "\n",
            "Balanced class distribution:\n",
            "binary_target\n",
            "Planet            4944\n",
            "False Positive    1294\n",
            "Name: count, dtype: int64\n"
          ]
        }
      ]
    },
    {
      "cell_type": "code",
      "source": [
        "def engineer_physics_features(df):\n",
        "    df = df.copy()\n",
        "    created = []\n",
        "\n",
        "    # 1. Transit SNR proxy (using pl_trandep and st_tmag)\n",
        "    if 'pl_trandep' in df.columns and 'st_tmag' in df.columns:\n",
        "        df['transit_snr'] = df['pl_trandep'] * (10 ** (-df['st_tmag'] / 5))\n",
        "        created.append('transit_snr')\n",
        "\n",
        "    # 2. Duration ratio → USE pl_trandurh (already in hours!)\n",
        "    if 'pl_trandurh' in df.columns and 'pl_orbper' in df.columns:\n",
        "        # pl_trandurh = duration in hours\n",
        "        # pl_orbper = period in days → convert to hours: *24\n",
        "        df['duration_ratio'] = df['pl_trandurh'] / (df['pl_orbper'] * 24 + 1e-6)\n",
        "        created.append('duration_ratio')\n",
        "\n",
        "    # 3. Depth residual → COMPUTE pl_ratror from pl_rade and st_rad\n",
        "    if all(col in df.columns for col in ['pl_trandep', 'pl_rade', 'st_rad']):\n",
        "        # Compute planet-star radius ratio\n",
        "        R_earth_to_R_sun = 0.009155  # Constant\n",
        "        df['pl_ratror'] = (df['pl_rade'] * R_earth_to_R_sun) / (df['st_rad'] + 1e-6)\n",
        "        # Now compute residual\n",
        "        observed_depth = df['pl_trandep'] / 1e6  # ppm → fraction\n",
        "        expected_depth = df['pl_ratror'] ** 2\n",
        "        df['depth_residual'] = np.abs(observed_depth - expected_depth)\n",
        "        created.extend(['pl_ratror', 'depth_residual'])\n",
        "\n",
        "    # 4. Log transforms\n",
        "    log_cols = ['pl_orbper', 'pl_rade', 'pl_insol']\n",
        "    for col in log_cols:\n",
        "        if col in df.columns:\n",
        "            df[f'{col}_log'] = np.log10(df[col] + 1e-6)\n",
        "            created.append(f'{col}_log')\n",
        "\n",
        "    print(f\"✅ Created features: {created}\")\n",
        "    return df"
      ],
      "metadata": {
        "id": "1Cbsbt8G5ct2"
      },
      "execution_count": 42,
      "outputs": []
    },
    {
      "cell_type": "code",
      "source": [
        "df_engineered = engineer_physics_features(df_balanced)\n",
        "\n",
        "# 🔎 DEBUG: Print ALL columns in df_engineered\n",
        "print(\"\\n🔍 ALL columns after feature engineering:\")\n",
        "print(df_engineered.columns.tolist())\n",
        "\n",
        "# 🔎 DEBUG: Check if key engineered features exist\n",
        "for feat in ['transit_snr', 'duration_ratio', 'depth_residual', 'pl_rade_log']:\n",
        "    if feat in df_engineered.columns:\n",
        "        print(f\"✅ {feat} is present\")\n",
        "    else:\n",
        "        print(f\"❌ {feat} is MISSING\")"
      ],
      "metadata": {
        "colab": {
          "base_uri": "https://localhost:8080/"
        },
        "id": "ZtbfbitsJKQB",
        "outputId": "6528ae69-72de-4a48-db1d-8150d18e6d3b"
      },
      "execution_count": 43,
      "outputs": [
        {
          "output_type": "stream",
          "name": "stdout",
          "text": [
            "✅ Created features: ['transit_snr', 'duration_ratio', 'pl_ratror', 'depth_residual', 'pl_orbper_log', 'pl_rade_log', 'pl_insol_log']\n",
            "\n",
            "🔍 ALL columns after feature engineering:\n",
            "['rowid', 'toi', 'toipfx', 'tid', 'ctoi_alias', 'pl_pnum', 'tfopwg_disp', 'rastr', 'ra', 'decstr', 'dec', 'st_pmra', 'st_pmdec', 'pl_tranmid', 'pl_orbper', 'pl_trandurh', 'pl_trandep', 'pl_rade', 'pl_insol', 'pl_eqt', 'st_tmag', 'st_dist', 'st_teff', 'st_logg', 'st_rad', 'toi_created', 'rowupdate', 'binary_target', 'transit_snr', 'duration_ratio', 'pl_ratror', 'depth_residual', 'pl_orbper_log', 'pl_rade_log', 'pl_insol_log']\n",
            "✅ transit_snr is present\n",
            "✅ duration_ratio is present\n",
            "✅ depth_residual is present\n",
            "✅ pl_rade_log is present\n"
          ]
        }
      ]
    },
    {
      "cell_type": "code",
      "source": [
        "print(\"🔍 Checking for required columns for feature engineering:\")\n",
        "required_cols = ['pl_trandep', 'st_tmag', 'pl_trandur', 'pl_orbper', 'pl_ratror', 'pl_rade']\n",
        "for col in required_cols:\n",
        "    status = \"✅ FOUND\" if col in df.columns else \"❌ MISSING\"\n",
        "    print(f\"  {col}: {status}\")"
      ],
      "metadata": {
        "colab": {
          "base_uri": "https://localhost:8080/"
        },
        "id": "x_2W3dc4FSI0",
        "outputId": "07d89216-0b41-48f6-d4be-0f3ef78d1feb"
      },
      "execution_count": 44,
      "outputs": [
        {
          "output_type": "stream",
          "name": "stdout",
          "text": [
            "🔍 Checking for required columns for feature engineering:\n",
            "  pl_trandep: ✅ FOUND\n",
            "  st_tmag: ✅ FOUND\n",
            "  pl_trandur: ❌ MISSING\n",
            "  pl_orbper: ✅ FOUND\n",
            "  pl_ratror: ❌ MISSING\n",
            "  pl_rade: ✅ FOUND\n"
          ]
        }
      ]
    },
    {
      "cell_type": "code",
      "source": [
        "# ==============================\n",
        "# STEP 3: FEATURE SELECTION & PREP\n",
        "# ==============================\n",
        "base_features = [\n",
        "    'pl_orbper', 'pl_rade', 'pl_trandep', 'pl_trandur', 'st_tmag',\n",
        "    'st_rad', 'st_teff', 'st_logg', 'pl_insol', 'pl_eqt',\n",
        "    'pl_ratdor', 'pl_ratror'\n",
        "]\n",
        "\n",
        "# Add engineered features\n",
        "engineered_cols = ['transit_snr', 'duration_ratio', 'depth_residual',\n",
        "                   'pl_orbper_log', 'pl_rade_log', 'pl_insol_log']\n",
        "\n",
        "all_features = base_features + engineered_cols\n",
        "available_features = [c for c in all_features if c in df_engineered.columns]\n",
        "\n",
        "# Exclude problematic cols\n",
        "exclude = ['ra', 'dec', 'tic', 'toi', 'comments', 'flag', 'url', 'date','toipfx','ctoi_alias', 'pl_pnum']\n",
        "final_features = [c for c in available_features\n",
        "                  if not any(p in c.lower() for p in exclude)]\n",
        "\n",
        "print(f\"\\nUsing {len(final_features)} features: {final_features}\")\n"
      ],
      "metadata": {
        "colab": {
          "base_uri": "https://localhost:8080/"
        },
        "id": "ydv0Qf0U5hp5",
        "outputId": "0bfd8610-074b-4b2c-d8e4-66eea10113c7"
      },
      "execution_count": 46,
      "outputs": [
        {
          "output_type": "stream",
          "name": "stdout",
          "text": [
            "\n",
            "Using 9 features: ['pl_orbper', 'st_tmag', 'st_teff', 'st_logg', 'pl_insol', 'pl_eqt', 'depth_residual', 'pl_orbper_log', 'pl_insol_log']\n"
          ]
        }
      ]
    },
    {
      "cell_type": "code",
      "source": [
        "# After feature engineering and before imputation\n",
        "X = df_engineered[final_features].copy()\n",
        "y = df_engineered['binary_target'].copy()\n",
        "\n",
        "# Convert X to numeric\n",
        "for col in X.columns:\n",
        "    X[col] = pd.to_numeric(X[col], errors='coerce')\n",
        "\n",
        "# 💡 CRITICAL: Reset index of BOTH X and y to ensure alignment\n",
        "X = X.reset_index(drop=True)\n",
        "y = y.reset_index(drop=True)\n",
        "\n",
        "# Now impute\n",
        "imputer = SimpleImputer(strategy='median')\n",
        "X_imputed = pd.DataFrame(imputer.fit_transform(X), columns=X.columns)\n",
        "\n",
        "# Now mask works!\n",
        "mask = ~y.isnull()\n",
        "X_final = X_imputed[mask]\n",
        "y_final = y[mask]"
      ],
      "metadata": {
        "id": "iohNf3O_6Ofw"
      },
      "execution_count": 33,
      "outputs": []
    },
    {
      "cell_type": "code",
      "source": [
        "# ==============================\n",
        "# TRAINING\n",
        "# ==============================\n",
        "# ✅ STEP 1: Encode the target FIRST\n",
        "from tabpfn import TabPFNClassifier\n",
        "le = LabelEncoder()\n",
        "y_encoded = le.fit_transform(y_final)  # Now y_encoded exists!\n",
        "class_names = le.classes_\n",
        "\n",
        "X_train, X_test, y_train, y_test = train_test_split(\n",
        "    X_final, y_encoded, test_size=TEST_SIZE,\n",
        "    random_state=RANDOM_STATE, stratify=y_encoded\n",
        ")\n",
        "\n",
        "# Subsample if needed\n",
        "if len(X_train) > MAX_TRAIN_SIZE:\n",
        "    idx = np.random.choice(len(X_train), MAX_TRAIN_SIZE, replace=False)\n",
        "    X_train_sub, y_train_sub = X_train.iloc[idx], y_train[idx]\n",
        "else:\n",
        "    X_train_sub, y_train_sub = X_train, y_train\n",
        "\n",
        "# Train with GPU\n",
        "device = 'cuda' if torch.cuda.is_available() else 'cpu'\n",
        "tabpfn = TabPFNClassifier(device=device)  # ✅ No N_ensemble_configurations!\n",
        "print(\"Training physics-informed TabPFN...\")\n",
        "tabpfn.fit(X_train_sub.values, y_train_sub)\n"
      ],
      "metadata": {
        "colab": {
          "base_uri": "https://localhost:8080/",
          "height": 97
        },
        "id": "5NjmXHnT6VRd",
        "outputId": "bc58113e-d685-40fc-de66-ae9cf841ea61"
      },
      "execution_count": 34,
      "outputs": [
        {
          "output_type": "stream",
          "name": "stdout",
          "text": [
            "Training physics-informed TabPFN...\n"
          ]
        },
        {
          "output_type": "execute_result",
          "data": {
            "text/plain": [
              "TabPFNClassifier(device='cuda')"
            ],
            "text/html": [
              "<style>#sk-container-id-2 {\n",
              "  /* Definition of color scheme common for light and dark mode */\n",
              "  --sklearn-color-text: #000;\n",
              "  --sklearn-color-text-muted: #666;\n",
              "  --sklearn-color-line: gray;\n",
              "  /* Definition of color scheme for unfitted estimators */\n",
              "  --sklearn-color-unfitted-level-0: #fff5e6;\n",
              "  --sklearn-color-unfitted-level-1: #f6e4d2;\n",
              "  --sklearn-color-unfitted-level-2: #ffe0b3;\n",
              "  --sklearn-color-unfitted-level-3: chocolate;\n",
              "  /* Definition of color scheme for fitted estimators */\n",
              "  --sklearn-color-fitted-level-0: #f0f8ff;\n",
              "  --sklearn-color-fitted-level-1: #d4ebff;\n",
              "  --sklearn-color-fitted-level-2: #b3dbfd;\n",
              "  --sklearn-color-fitted-level-3: cornflowerblue;\n",
              "\n",
              "  /* Specific color for light theme */\n",
              "  --sklearn-color-text-on-default-background: var(--sg-text-color, var(--theme-code-foreground, var(--jp-content-font-color1, black)));\n",
              "  --sklearn-color-background: var(--sg-background-color, var(--theme-background, var(--jp-layout-color0, white)));\n",
              "  --sklearn-color-border-box: var(--sg-text-color, var(--theme-code-foreground, var(--jp-content-font-color1, black)));\n",
              "  --sklearn-color-icon: #696969;\n",
              "\n",
              "  @media (prefers-color-scheme: dark) {\n",
              "    /* Redefinition of color scheme for dark theme */\n",
              "    --sklearn-color-text-on-default-background: var(--sg-text-color, var(--theme-code-foreground, var(--jp-content-font-color1, white)));\n",
              "    --sklearn-color-background: var(--sg-background-color, var(--theme-background, var(--jp-layout-color0, #111)));\n",
              "    --sklearn-color-border-box: var(--sg-text-color, var(--theme-code-foreground, var(--jp-content-font-color1, white)));\n",
              "    --sklearn-color-icon: #878787;\n",
              "  }\n",
              "}\n",
              "\n",
              "#sk-container-id-2 {\n",
              "  color: var(--sklearn-color-text);\n",
              "}\n",
              "\n",
              "#sk-container-id-2 pre {\n",
              "  padding: 0;\n",
              "}\n",
              "\n",
              "#sk-container-id-2 input.sk-hidden--visually {\n",
              "  border: 0;\n",
              "  clip: rect(1px 1px 1px 1px);\n",
              "  clip: rect(1px, 1px, 1px, 1px);\n",
              "  height: 1px;\n",
              "  margin: -1px;\n",
              "  overflow: hidden;\n",
              "  padding: 0;\n",
              "  position: absolute;\n",
              "  width: 1px;\n",
              "}\n",
              "\n",
              "#sk-container-id-2 div.sk-dashed-wrapped {\n",
              "  border: 1px dashed var(--sklearn-color-line);\n",
              "  margin: 0 0.4em 0.5em 0.4em;\n",
              "  box-sizing: border-box;\n",
              "  padding-bottom: 0.4em;\n",
              "  background-color: var(--sklearn-color-background);\n",
              "}\n",
              "\n",
              "#sk-container-id-2 div.sk-container {\n",
              "  /* jupyter's `normalize.less` sets `[hidden] { display: none; }`\n",
              "     but bootstrap.min.css set `[hidden] { display: none !important; }`\n",
              "     so we also need the `!important` here to be able to override the\n",
              "     default hidden behavior on the sphinx rendered scikit-learn.org.\n",
              "     See: https://github.com/scikit-learn/scikit-learn/issues/21755 */\n",
              "  display: inline-block !important;\n",
              "  position: relative;\n",
              "}\n",
              "\n",
              "#sk-container-id-2 div.sk-text-repr-fallback {\n",
              "  display: none;\n",
              "}\n",
              "\n",
              "div.sk-parallel-item,\n",
              "div.sk-serial,\n",
              "div.sk-item {\n",
              "  /* draw centered vertical line to link estimators */\n",
              "  background-image: linear-gradient(var(--sklearn-color-text-on-default-background), var(--sklearn-color-text-on-default-background));\n",
              "  background-size: 2px 100%;\n",
              "  background-repeat: no-repeat;\n",
              "  background-position: center center;\n",
              "}\n",
              "\n",
              "/* Parallel-specific style estimator block */\n",
              "\n",
              "#sk-container-id-2 div.sk-parallel-item::after {\n",
              "  content: \"\";\n",
              "  width: 100%;\n",
              "  border-bottom: 2px solid var(--sklearn-color-text-on-default-background);\n",
              "  flex-grow: 1;\n",
              "}\n",
              "\n",
              "#sk-container-id-2 div.sk-parallel {\n",
              "  display: flex;\n",
              "  align-items: stretch;\n",
              "  justify-content: center;\n",
              "  background-color: var(--sklearn-color-background);\n",
              "  position: relative;\n",
              "}\n",
              "\n",
              "#sk-container-id-2 div.sk-parallel-item {\n",
              "  display: flex;\n",
              "  flex-direction: column;\n",
              "}\n",
              "\n",
              "#sk-container-id-2 div.sk-parallel-item:first-child::after {\n",
              "  align-self: flex-end;\n",
              "  width: 50%;\n",
              "}\n",
              "\n",
              "#sk-container-id-2 div.sk-parallel-item:last-child::after {\n",
              "  align-self: flex-start;\n",
              "  width: 50%;\n",
              "}\n",
              "\n",
              "#sk-container-id-2 div.sk-parallel-item:only-child::after {\n",
              "  width: 0;\n",
              "}\n",
              "\n",
              "/* Serial-specific style estimator block */\n",
              "\n",
              "#sk-container-id-2 div.sk-serial {\n",
              "  display: flex;\n",
              "  flex-direction: column;\n",
              "  align-items: center;\n",
              "  background-color: var(--sklearn-color-background);\n",
              "  padding-right: 1em;\n",
              "  padding-left: 1em;\n",
              "}\n",
              "\n",
              "\n",
              "/* Toggleable style: style used for estimator/Pipeline/ColumnTransformer box that is\n",
              "clickable and can be expanded/collapsed.\n",
              "- Pipeline and ColumnTransformer use this feature and define the default style\n",
              "- Estimators will overwrite some part of the style using the `sk-estimator` class\n",
              "*/\n",
              "\n",
              "/* Pipeline and ColumnTransformer style (default) */\n",
              "\n",
              "#sk-container-id-2 div.sk-toggleable {\n",
              "  /* Default theme specific background. It is overwritten whether we have a\n",
              "  specific estimator or a Pipeline/ColumnTransformer */\n",
              "  background-color: var(--sklearn-color-background);\n",
              "}\n",
              "\n",
              "/* Toggleable label */\n",
              "#sk-container-id-2 label.sk-toggleable__label {\n",
              "  cursor: pointer;\n",
              "  display: flex;\n",
              "  width: 100%;\n",
              "  margin-bottom: 0;\n",
              "  padding: 0.5em;\n",
              "  box-sizing: border-box;\n",
              "  text-align: center;\n",
              "  align-items: start;\n",
              "  justify-content: space-between;\n",
              "  gap: 0.5em;\n",
              "}\n",
              "\n",
              "#sk-container-id-2 label.sk-toggleable__label .caption {\n",
              "  font-size: 0.6rem;\n",
              "  font-weight: lighter;\n",
              "  color: var(--sklearn-color-text-muted);\n",
              "}\n",
              "\n",
              "#sk-container-id-2 label.sk-toggleable__label-arrow:before {\n",
              "  /* Arrow on the left of the label */\n",
              "  content: \"▸\";\n",
              "  float: left;\n",
              "  margin-right: 0.25em;\n",
              "  color: var(--sklearn-color-icon);\n",
              "}\n",
              "\n",
              "#sk-container-id-2 label.sk-toggleable__label-arrow:hover:before {\n",
              "  color: var(--sklearn-color-text);\n",
              "}\n",
              "\n",
              "/* Toggleable content - dropdown */\n",
              "\n",
              "#sk-container-id-2 div.sk-toggleable__content {\n",
              "  max-height: 0;\n",
              "  max-width: 0;\n",
              "  overflow: hidden;\n",
              "  text-align: left;\n",
              "  /* unfitted */\n",
              "  background-color: var(--sklearn-color-unfitted-level-0);\n",
              "}\n",
              "\n",
              "#sk-container-id-2 div.sk-toggleable__content.fitted {\n",
              "  /* fitted */\n",
              "  background-color: var(--sklearn-color-fitted-level-0);\n",
              "}\n",
              "\n",
              "#sk-container-id-2 div.sk-toggleable__content pre {\n",
              "  margin: 0.2em;\n",
              "  border-radius: 0.25em;\n",
              "  color: var(--sklearn-color-text);\n",
              "  /* unfitted */\n",
              "  background-color: var(--sklearn-color-unfitted-level-0);\n",
              "}\n",
              "\n",
              "#sk-container-id-2 div.sk-toggleable__content.fitted pre {\n",
              "  /* unfitted */\n",
              "  background-color: var(--sklearn-color-fitted-level-0);\n",
              "}\n",
              "\n",
              "#sk-container-id-2 input.sk-toggleable__control:checked~div.sk-toggleable__content {\n",
              "  /* Expand drop-down */\n",
              "  max-height: 200px;\n",
              "  max-width: 100%;\n",
              "  overflow: auto;\n",
              "}\n",
              "\n",
              "#sk-container-id-2 input.sk-toggleable__control:checked~label.sk-toggleable__label-arrow:before {\n",
              "  content: \"▾\";\n",
              "}\n",
              "\n",
              "/* Pipeline/ColumnTransformer-specific style */\n",
              "\n",
              "#sk-container-id-2 div.sk-label input.sk-toggleable__control:checked~label.sk-toggleable__label {\n",
              "  color: var(--sklearn-color-text);\n",
              "  background-color: var(--sklearn-color-unfitted-level-2);\n",
              "}\n",
              "\n",
              "#sk-container-id-2 div.sk-label.fitted input.sk-toggleable__control:checked~label.sk-toggleable__label {\n",
              "  background-color: var(--sklearn-color-fitted-level-2);\n",
              "}\n",
              "\n",
              "/* Estimator-specific style */\n",
              "\n",
              "/* Colorize estimator box */\n",
              "#sk-container-id-2 div.sk-estimator input.sk-toggleable__control:checked~label.sk-toggleable__label {\n",
              "  /* unfitted */\n",
              "  background-color: var(--sklearn-color-unfitted-level-2);\n",
              "}\n",
              "\n",
              "#sk-container-id-2 div.sk-estimator.fitted input.sk-toggleable__control:checked~label.sk-toggleable__label {\n",
              "  /* fitted */\n",
              "  background-color: var(--sklearn-color-fitted-level-2);\n",
              "}\n",
              "\n",
              "#sk-container-id-2 div.sk-label label.sk-toggleable__label,\n",
              "#sk-container-id-2 div.sk-label label {\n",
              "  /* The background is the default theme color */\n",
              "  color: var(--sklearn-color-text-on-default-background);\n",
              "}\n",
              "\n",
              "/* On hover, darken the color of the background */\n",
              "#sk-container-id-2 div.sk-label:hover label.sk-toggleable__label {\n",
              "  color: var(--sklearn-color-text);\n",
              "  background-color: var(--sklearn-color-unfitted-level-2);\n",
              "}\n",
              "\n",
              "/* Label box, darken color on hover, fitted */\n",
              "#sk-container-id-2 div.sk-label.fitted:hover label.sk-toggleable__label.fitted {\n",
              "  color: var(--sklearn-color-text);\n",
              "  background-color: var(--sklearn-color-fitted-level-2);\n",
              "}\n",
              "\n",
              "/* Estimator label */\n",
              "\n",
              "#sk-container-id-2 div.sk-label label {\n",
              "  font-family: monospace;\n",
              "  font-weight: bold;\n",
              "  display: inline-block;\n",
              "  line-height: 1.2em;\n",
              "}\n",
              "\n",
              "#sk-container-id-2 div.sk-label-container {\n",
              "  text-align: center;\n",
              "}\n",
              "\n",
              "/* Estimator-specific */\n",
              "#sk-container-id-2 div.sk-estimator {\n",
              "  font-family: monospace;\n",
              "  border: 1px dotted var(--sklearn-color-border-box);\n",
              "  border-radius: 0.25em;\n",
              "  box-sizing: border-box;\n",
              "  margin-bottom: 0.5em;\n",
              "  /* unfitted */\n",
              "  background-color: var(--sklearn-color-unfitted-level-0);\n",
              "}\n",
              "\n",
              "#sk-container-id-2 div.sk-estimator.fitted {\n",
              "  /* fitted */\n",
              "  background-color: var(--sklearn-color-fitted-level-0);\n",
              "}\n",
              "\n",
              "/* on hover */\n",
              "#sk-container-id-2 div.sk-estimator:hover {\n",
              "  /* unfitted */\n",
              "  background-color: var(--sklearn-color-unfitted-level-2);\n",
              "}\n",
              "\n",
              "#sk-container-id-2 div.sk-estimator.fitted:hover {\n",
              "  /* fitted */\n",
              "  background-color: var(--sklearn-color-fitted-level-2);\n",
              "}\n",
              "\n",
              "/* Specification for estimator info (e.g. \"i\" and \"?\") */\n",
              "\n",
              "/* Common style for \"i\" and \"?\" */\n",
              "\n",
              ".sk-estimator-doc-link,\n",
              "a:link.sk-estimator-doc-link,\n",
              "a:visited.sk-estimator-doc-link {\n",
              "  float: right;\n",
              "  font-size: smaller;\n",
              "  line-height: 1em;\n",
              "  font-family: monospace;\n",
              "  background-color: var(--sklearn-color-background);\n",
              "  border-radius: 1em;\n",
              "  height: 1em;\n",
              "  width: 1em;\n",
              "  text-decoration: none !important;\n",
              "  margin-left: 0.5em;\n",
              "  text-align: center;\n",
              "  /* unfitted */\n",
              "  border: var(--sklearn-color-unfitted-level-1) 1pt solid;\n",
              "  color: var(--sklearn-color-unfitted-level-1);\n",
              "}\n",
              "\n",
              ".sk-estimator-doc-link.fitted,\n",
              "a:link.sk-estimator-doc-link.fitted,\n",
              "a:visited.sk-estimator-doc-link.fitted {\n",
              "  /* fitted */\n",
              "  border: var(--sklearn-color-fitted-level-1) 1pt solid;\n",
              "  color: var(--sklearn-color-fitted-level-1);\n",
              "}\n",
              "\n",
              "/* On hover */\n",
              "div.sk-estimator:hover .sk-estimator-doc-link:hover,\n",
              ".sk-estimator-doc-link:hover,\n",
              "div.sk-label-container:hover .sk-estimator-doc-link:hover,\n",
              ".sk-estimator-doc-link:hover {\n",
              "  /* unfitted */\n",
              "  background-color: var(--sklearn-color-unfitted-level-3);\n",
              "  color: var(--sklearn-color-background);\n",
              "  text-decoration: none;\n",
              "}\n",
              "\n",
              "div.sk-estimator.fitted:hover .sk-estimator-doc-link.fitted:hover,\n",
              ".sk-estimator-doc-link.fitted:hover,\n",
              "div.sk-label-container:hover .sk-estimator-doc-link.fitted:hover,\n",
              ".sk-estimator-doc-link.fitted:hover {\n",
              "  /* fitted */\n",
              "  background-color: var(--sklearn-color-fitted-level-3);\n",
              "  color: var(--sklearn-color-background);\n",
              "  text-decoration: none;\n",
              "}\n",
              "\n",
              "/* Span, style for the box shown on hovering the info icon */\n",
              ".sk-estimator-doc-link span {\n",
              "  display: none;\n",
              "  z-index: 9999;\n",
              "  position: relative;\n",
              "  font-weight: normal;\n",
              "  right: .2ex;\n",
              "  padding: .5ex;\n",
              "  margin: .5ex;\n",
              "  width: min-content;\n",
              "  min-width: 20ex;\n",
              "  max-width: 50ex;\n",
              "  color: var(--sklearn-color-text);\n",
              "  box-shadow: 2pt 2pt 4pt #999;\n",
              "  /* unfitted */\n",
              "  background: var(--sklearn-color-unfitted-level-0);\n",
              "  border: .5pt solid var(--sklearn-color-unfitted-level-3);\n",
              "}\n",
              "\n",
              ".sk-estimator-doc-link.fitted span {\n",
              "  /* fitted */\n",
              "  background: var(--sklearn-color-fitted-level-0);\n",
              "  border: var(--sklearn-color-fitted-level-3);\n",
              "}\n",
              "\n",
              ".sk-estimator-doc-link:hover span {\n",
              "  display: block;\n",
              "}\n",
              "\n",
              "/* \"?\"-specific style due to the `<a>` HTML tag */\n",
              "\n",
              "#sk-container-id-2 a.estimator_doc_link {\n",
              "  float: right;\n",
              "  font-size: 1rem;\n",
              "  line-height: 1em;\n",
              "  font-family: monospace;\n",
              "  background-color: var(--sklearn-color-background);\n",
              "  border-radius: 1rem;\n",
              "  height: 1rem;\n",
              "  width: 1rem;\n",
              "  text-decoration: none;\n",
              "  /* unfitted */\n",
              "  color: var(--sklearn-color-unfitted-level-1);\n",
              "  border: var(--sklearn-color-unfitted-level-1) 1pt solid;\n",
              "}\n",
              "\n",
              "#sk-container-id-2 a.estimator_doc_link.fitted {\n",
              "  /* fitted */\n",
              "  border: var(--sklearn-color-fitted-level-1) 1pt solid;\n",
              "  color: var(--sklearn-color-fitted-level-1);\n",
              "}\n",
              "\n",
              "/* On hover */\n",
              "#sk-container-id-2 a.estimator_doc_link:hover {\n",
              "  /* unfitted */\n",
              "  background-color: var(--sklearn-color-unfitted-level-3);\n",
              "  color: var(--sklearn-color-background);\n",
              "  text-decoration: none;\n",
              "}\n",
              "\n",
              "#sk-container-id-2 a.estimator_doc_link.fitted:hover {\n",
              "  /* fitted */\n",
              "  background-color: var(--sklearn-color-fitted-level-3);\n",
              "}\n",
              "</style><div id=\"sk-container-id-2\" class=\"sk-top-container\"><div class=\"sk-text-repr-fallback\"><pre>TabPFNClassifier(device=&#x27;cuda&#x27;)</pre><b>In a Jupyter environment, please rerun this cell to show the HTML representation or trust the notebook. <br />On GitHub, the HTML representation is unable to render, please try loading this page with nbviewer.org.</b></div><div class=\"sk-container\" hidden><div class=\"sk-item\"><div class=\"sk-estimator fitted sk-toggleable\"><input class=\"sk-toggleable__control sk-hidden--visually\" id=\"sk-estimator-id-2\" type=\"checkbox\" checked><label for=\"sk-estimator-id-2\" class=\"sk-toggleable__label fitted sk-toggleable__label-arrow\"><div><div>TabPFNClassifier</div></div><div><span class=\"sk-estimator-doc-link fitted\">i<span>Fitted</span></span></div></label><div class=\"sk-toggleable__content fitted\"><pre>TabPFNClassifier(device=&#x27;cuda&#x27;)</pre></div> </div></div></div></div>"
            ]
          },
          "metadata": {},
          "execution_count": 34
        }
      ]
    },
    {
      "cell_type": "code",
      "source": [
        "# Predict\n",
        "y_pred = tabpfn.predict(X_test.values)\n",
        "\n",
        "# Evaluate\n",
        "acc = accuracy_score(y_test, y_pred)\n",
        "bal_acc = balanced_accuracy_score(y_test, y_pred)\n",
        "\n",
        "print(f\"\\n✅ Final Results:\")\n",
        "print(f\"Accuracy: {acc:.3f}\")\n",
        "print(f\"Balanced Accuracy: {bal_acc:.3f}\")\n",
        "print(\"\\nClassification Report:\")\n",
        "print(classification_report(y_test, y_pred, target_names=class_names))\n"
      ],
      "metadata": {
        "colab": {
          "base_uri": "https://localhost:8080/"
        },
        "id": "ggavnnSH6gzg",
        "outputId": "b05924b7-1f42-46f9-eb7a-8d9277caf642"
      },
      "execution_count": 35,
      "outputs": [
        {
          "output_type": "stream",
          "name": "stdout",
          "text": [
            "\n",
            "✅ Final Results:\n",
            "Accuracy: 0.827\n",
            "Balanced Accuracy: 0.616\n",
            "\n",
            "Classification Report:\n",
            "                precision    recall  f1-score   support\n",
            "\n",
            "False Positive       0.74      0.25      0.38       259\n",
            "        Planet       0.83      0.98      0.90       989\n",
            "\n",
            "      accuracy                           0.83      1248\n",
            "     macro avg       0.79      0.62      0.64      1248\n",
            "  weighted avg       0.81      0.83      0.79      1248\n",
            "\n"
          ]
        }
      ]
    },
    {
      "cell_type": "code",
      "source": [
        "# Confusion Matrix\n",
        "plt.figure(figsize=(7, 5))\n",
        "cm = confusion_matrix(y_test, y_pred)\n",
        "sns.heatmap(cm, annot=True, fmt='d', cmap='Blues',\n",
        "            xticklabels=class_names, yticklabels=class_names)\n",
        "plt.title('Confusion Matrix — Physics-Informed Binary Classifier')\n",
        "plt.ylabel('True Label')\n",
        "plt.xlabel('Predicted Label')\n",
        "plt.tight_layout()\n",
        "plt.show()\n"
      ],
      "metadata": {
        "colab": {
          "base_uri": "https://localhost:8080/",
          "height": 507
        },
        "id": "W05vLQxq6leP",
        "outputId": "33bf1bb5-c639-45cf-d2a2-387d28c6aa7e"
      },
      "execution_count": 36,
      "outputs": [
        {
          "output_type": "display_data",
          "data": {
            "text/plain": [
              "<Figure size 700x500 with 2 Axes>"
            ],
            "image/png": "[encoded data removed]"
          },
          "metadata": {}
        }
      ]
    },
    {
      "cell_type": "code",
      "source": [
        "# Feature Importance\n",
        "perm_imp = permutation_importance(tabpfn, X_test.values, y_test,\n",
        "                                  n_repeats=10, random_state=RANDOM_STATE)\n",
        "feat_imp = pd.DataFrame({\n",
        "    'feature': X_test.columns,\n",
        "    'importance': perm_imp.importances_mean\n",
        "}).sort_values('importance', ascending=False)\n",
        "\n",
        "plt.figure(figsize=(10, 6))\n",
        "top10 = feat_imp.head(10)\n",
        "plt.barh(range(len(top10)), top10['importance'])\n",
        "plt.yticks(range(len(top10)), top10['feature'])\n",
        "plt.xlabel('Permutation Importance')\n",
        "plt.title('Top 10 Features — Physics-Informed Model')\n",
        "plt.tight_layout()\n",
        "plt.show()\n",
        "\n"
      ],
      "metadata": {
        "colab": {
          "base_uri": "https://localhost:8080/",
          "height": 607
        },
        "id": "cdSlcrd46pS_",
        "outputId": "2db426a8-878e-4c37-b9e0-40f3331d9b24"
      },
      "execution_count": 37,
      "outputs": [
        {
          "output_type": "display_data",
          "data": {
            "text/plain": [
              "<Figure size 1000x600 with 1 Axes>"
            ],
            "image/png": "[encoded data removed]"
          },
          "metadata": {}
        }
      ]
    },
    {
      "cell_type": "code",
      "source": [
        "# Save\n",
        "with open('tess_planet_classifier_1st.pkl', 'wb') as f:\n",
        "    pickle.dump({\n",
        "        'model': tabpfn,\n",
        "        'features': list(X_final.columns),\n",
        "        'imputer': imputer,\n",
        "        'label_encoder': le,\n",
        "        'balanced_accuracy': bal_acc\n",
        "    }, f)\n",
        "\n",
        "print(\"\\n🎉 Model saved! Ready for deployment.\")"
      ],
      "metadata": {
        "colab": {
          "base_uri": "https://localhost:8080/"
        },
        "id": "7BzQqqGc6tsD",
        "outputId": "cd687adc-6678-44b2-862e-3d1420d3d410"
      },
      "execution_count": 27,
      "outputs": [
        {
          "output_type": "stream",
          "name": "stdout",
          "text": [
            "\n",
            "🎉 Model saved! Ready for deployment.\n"
          ]
        }
      ]
    },
    {
      "cell_type": "code",
      "source": [
        "if target_col not in df.columns:\n",
        "    possible = [c for c in df.columns if 'disp' in c.lower() or 'class' in c.lower()]\n",
        "    raise ValueError(f\"Target '{target_col}' not found. Candidates: {possible}\")\n",
        "\n",
        "# Feature list\n",
        "feature_cols = [\n",
        "    'pl_orbper', 'pl_rade', 'pl_trandep', 'pl_trandur', 'st_tmag',\n",
        "    'st_rad', 'st_teff', 'st_logg', 'pl_insol', 'pl_eqt',\n",
        "    'pl_ratdor', 'pl_ratror'\n",
        "]\n",
        "snr_cols = [col for col in df.columns if 'snr' in col.lower()]\n",
        "feature_cols.extend(snr_cols)\n",
        "\n",
        "# Exclude unwanted\n",
        "exclude_patterns = ['ra', 'dec', 'tic', 'toi', 'comments', 'flag', 'url', 'date']\n",
        "available_features = [c for c in feature_cols if c in df.columns]\n",
        "features_to_use = [c for c in available_features\n",
        "                   if not any(p in c.lower() for p in exclude_patterns)]\n",
        "\n",
        "print(f\"Using {len(features_to_use)} features: {features_to_use}\")\n",
        "\n"
      ],
      "metadata": {
        "id": "4Qhy47Ua4pUV"
      },
      "execution_count": null,
      "outputs": []
    },
    {
      "cell_type": "code",
      "source": [
        "X = df[features_to_use].copy()\n",
        "y = df[target_col].copy()\n",
        "\n",
        "# Convert to numeric\n",
        "for col in X.columns:\n",
        "    X[col] = pd.to_numeric(X[col], errors='coerce')\n",
        "\n",
        "# Handle missing in pl_orbper\n",
        "if 'pl_orbper' in X.columns:\n",
        "    X['pl_orbper'].fillna(999, inplace=True)\n",
        "\n",
        "# Impute rest\n",
        "imputer = SimpleImputer(strategy='median')\n",
        "X_imputed = pd.DataFrame(imputer.fit_transform(X), columns=X.columns)\n",
        "\n",
        "# Remove missing targets\n",
        "mask = ~y.isnull()\n",
        "X_imputed = X_imputed[mask]\n",
        "y = y[mask]\n",
        "print(f\"Final dataset shape: {X_imputed.shape}\")\n",
        "\n",
        "# Encode target\n",
        "le = LabelEncoder()\n",
        "y_encoded = le.fit_transform(y)\n",
        "class_names = le.classes_\n",
        "print(f\"Classes: {class_names}\")\n",
        "\n",
        "# ="
      ],
      "metadata": {
        "colab": {
          "base_uri": "https://localhost:8080/"
        },
        "id": "GlPCr2_JJkSy",
        "outputId": "4ffe9c71-d3a3-4897-9ecc-b988efc340d7"
      },
      "execution_count": 5,
      "outputs": [
        {
          "output_type": "stream",
          "name": "stdout",
          "text": [
            "Final dataset shape: (7699, 6)\n",
            "Classes: ['APC' 'CP' 'FA' 'FP' 'KP' 'PC']\n"
          ]
        }
      ]
    },
    {
      "cell_type": "code",
      "source": [
        "# ==============================\n",
        "# GPU Setup for TabPFN\n",
        "# ==============================\n",
        "device = 'cuda' if torch.cuda.is_available() else 'cpu'\n",
        "print(f\"\\nUsing device: {device}\")\n",
        "\n",
        "# Import TabPFN AFTER torch is ready\n",
        "from tabpfn import TabPFNClassifier"
      ],
      "metadata": {
        "colab": {
          "base_uri": "https://localhost:8080/"
        },
        "id": "F_cAzvwFJzHC",
        "outputId": "0861a85e-4e60-4bc2-8e5e-8508673ff534"
      },
      "execution_count": 6,
      "outputs": [
        {
          "output_type": "stream",
          "name": "stdout",
          "text": [
            "\n",
            "Using device: cuda\n"
          ]
        }
      ]
    },
    {
      "cell_type": "code",
      "source": [
        "print(\"\\n\" + \"=\"*50)\n",
        "print(\"STRATEGY 1: 6-CLASS CLASSIFICATION\")\n",
        "print(\"=\"*50)\n",
        "\n",
        "X_train, X_test, y_train, y_test = train_test_split(\n",
        "    X_imputed, y_encoded, test_size=TEST_SIZE, random_state=RANDOM_STATE, stratify=y_encoded\n",
        ")\n",
        "\n",
        "# Subsample if needed\n",
        "if len(X_train) > MAX_TRAIN_SIZE:\n",
        "    idx = np.random.choice(len(X_train), MAX_TRAIN_SIZE, replace=False)\n",
        "    X_train_sub, y_train_sub = X_train.iloc[idx], y_train[idx]\n",
        "else:\n",
        "    X_train_sub, y_train_sub = X_train, y_train\n",
        "\n",
        "# Train TabPFN with GPU\n",
        "tabpfn = TabPFNClassifier(\n",
        "    device=device)\n",
        "print(\"Training TabPFN (6-class)...\")\n",
        "tabpfn.fit(X_train_sub.values, y_train_sub)  # Use .values for safety\n",
        "\n",
        "y_pred = tabpfn.predict(X_test.values)\n",
        "y_proba = tabpfn.predict_proba(X_test.values)\n",
        "\n",
        "accuracy = accuracy_score(y_test, y_pred)\n",
        "balanced_acc = balanced_accuracy_score(y_test, y_pred)\n",
        "\n",
        "print(f\"Accuracy: {accuracy:.3f}\")\n",
        "print(f\"Balanced Accuracy: {balanced_acc:.3f}\")\n",
        "print(\"\\nClassification Report:\")\n",
        "print(classification_report(y_test, y_pred, target_names=class_names, digits=3))\n"
      ],
      "metadata": {
        "colab": {
          "base_uri": "https://localhost:8080/",
          "height": 463,
          "referenced_widgets": [
            "c4616756200549af82baff0708014710",
            "ab59e700280943c69e862a464a324dbc",
            "2e589489cc8a451492a670b7c4556e55",
            "646cd3269d534206aa94c8c093e6498d",
            "4f0a6de95b5d450490fc161534377a7a",
            "ad3f7bdda16c4b97a5b7a7d5805401d8",
            "efcfdffe109148058834087226586817",
            "adfc09cb8841476cb5f064ddf48ef4dc",
            "a6bfb80cd4814b7ab8a862672c0cdd5e",
            "e4aa723d5a86430da70624776feb7483",
            "06bc6047e9964e98b712a651b1607c34",
            "43b8d17742a047cbb459ee8be80aad6c",
            "0b56dc4bd6cd4c289e4731d9e6b4d216",
            "aa8000dc75c149719c19b3ff67e3a2ce",
            "ff4969536d9b4fd78a0ce047bdffcf85",
            "76b6e6e7a13e47689fdba92a991c3801",
            "1c06dbdb13204801b8928571e48b9fbd",
            "2738c31139c446d4ad840a6b5a7945ae",
            "2fff52ea583d4abfa43e5925ff00f245",
            "a9660d952189478ea570198146b7219c",
            "24471e7d046f4ba1a651bd52157e09d1",
            "ebcfc5a8785d442bbe567ec525ecdd93"
          ]
        },
        "id": "ra-Evz6-J4lD",
        "outputId": "f698c668-ebe1-4cb4-e5d8-7d39634458d3"
      },
      "execution_count": 10,
      "outputs": [
        {
          "output_type": "stream",
          "name": "stdout",
          "text": [
            "\n",
            "==================================================\n",
            "STRATEGY 1: 6-CLASS CLASSIFICATION\n",
            "==================================================\n",
            "Training TabPFN (6-class)...\n"
          ]
        },
        {
          "output_type": "display_data",
          "data": {
            "text/plain": [
              "tabpfn-v2-classifier-finetuned-zk73skhh.(…):   0%|          | 0.00/29.0M [00:00<?, ?B/s]"
            ],
            "application/vnd.jupyter.widget-view+json": {
              "version_major": 2,
              "version_minor": 0,
              "model_id": "c4616756200549af82baff0708014710"
            }
          },
          "metadata": {}
        },
        {
          "output_type": "display_data",
          "data": {
            "text/plain": [
              "config.json:   0%|          | 0.00/37.0 [00:00<?, ?B/s]"
            ],
            "application/vnd.jupyter.widget-view+json": {
              "version_major": 2,
              "version_minor": 0,
              "model_id": "43b8d17742a047cbb459ee8be80aad6c"
            }
          },
          "metadata": {}
        },
        {
          "output_type": "stream",
          "name": "stdout",
          "text": [
            "Accuracy: 0.649\n",
            "Balanced Accuracy: 0.249\n",
            "\n",
            "Classification Report:\n",
            "              precision    recall  f1-score   support\n",
            "\n",
            "         APC      0.000     0.000     0.000        92\n",
            "          CP      0.581     0.182     0.278       137\n",
            "          FA      0.000     0.000     0.000        19\n",
            "          FP      0.544     0.364     0.436       239\n",
            "          KP      0.000     0.000     0.000       117\n",
            "          PC      0.664     0.949     0.781       936\n",
            "\n",
            "    accuracy                          0.649      1540\n",
            "   macro avg      0.298     0.249     0.249      1540\n",
            "weighted avg      0.540     0.649     0.567      1540\n",
            "\n"
          ]
        }
      ]
    },
    {
      "cell_type": "code",
      "source": [
        "# Confusion Matrix\n",
        "plt.figure(figsize=(10, 8))\n",
        "cm = confusion_matrix(y_test, y_pred)\n",
        "sns.heatmap(cm, annot=True, fmt='d', cmap='Blues', xticklabels=class_names, yticklabels=class_names)\n",
        "plt.title('Confusion Matrix - 6 Class')\n",
        "plt.ylabel('True Label')\n",
        "plt.xlabel('Predicted Label')\n",
        "plt.tight_layout()\n",
        "plt.show()\n"
      ],
      "metadata": {
        "colab": {
          "base_uri": "https://localhost:8080/",
          "height": 807
        },
        "id": "sVEQzcd1KGZz",
        "outputId": "4ee33e11-11c3-406e-a1bd-a3cea2fef570"
      },
      "execution_count": 11,
      "outputs": [
        {
          "output_type": "display_data",
          "data": {
            "text/plain": [
              "<Figure size 1000x800 with 2 Axes>"
            ],
            "image/png": "[encoded data removed]"
          },
          "metadata": {}
        }
      ]
    },
    {
      "cell_type": "code",
      "source": [
        "# Feature Importance\n",
        "from sklearn.inspection import permutation_importance\n",
        "perm_imp = permutation_importance(tabpfn, X_test.values, y_test, n_repeats=10, random_state=RANDOM_STATE)\n",
        "feat_imp_df = pd.DataFrame({\n",
        "    'feature': X_test.columns,\n",
        "    'importance': perm_imp.importances_mean,\n",
        "    'std': perm_imp.importances_std\n",
        "}).sort_values('importance', ascending=False)\n",
        "\n",
        "plt.figure(figsize=(10, 6))\n",
        "top10 = feat_imp_df.head(10)\n",
        "plt.barh(range(len(top10)), top10['importance'])\n",
        "plt.yticks(range(len(top10)), top10['feature'])\n",
        "plt.xlabel('Permutation Importance')\n",
        "plt.title('Top 10 Features')\n",
        "plt.tight_layout()\n",
        "plt.show()\n"
      ],
      "metadata": {
        "colab": {
          "base_uri": "https://localhost:8080/",
          "height": 607
        },
        "id": "3l2ZKTQ-LkUP",
        "outputId": "08fdea5a-11ee-45f7-9113-32d62ab2ac3d"
      },
      "execution_count": 12,
      "outputs": [
        {
          "output_type": "display_data",
          "data": {
            "text/plain": [
              "<Figure size 1000x600 with 1 Axes>"
            ],
            "image/png": "[encoded data removed]"
          },
          "metadata": {}
        }
      ]
    },
    {
      "cell_type": "code",
      "source": [
        "# ==============================\n",
        "# Strategy 2: Binary Classification\n",
        "# ==============================\n",
        "print(\"\\n\" + \"=\"*50)\n",
        "print(\"STRATEGY 2: BINARY CLASSIFICATION\")\n",
        "print(\"=\"*50)\n",
        "\n",
        "planet_classes = ['PC', 'APC', 'CP', 'KP']\n",
        "y_binary = y.isin(planet_classes).astype(int)\n",
        "\n",
        "X_train_b, X_test_b, y_train_b, y_test_b = train_test_split(\n",
        "    X_imputed, y_binary, test_size=TEST_SIZE, random_state=RANDOM_STATE, stratify=y_binary\n",
        ")\n",
        "\n",
        "if len(X_train_b) > MAX_TRAIN_SIZE:\n",
        "    idx = np.random.choice(len(X_train_b), MAX_TRAIN_SIZE, replace=False)\n",
        "    X_train_b_sub, y_train_b_sub = X_train_b.iloc[idx], y_train_b.iloc[idx]\n",
        "else:\n",
        "    X_train_b_sub, y_train_b_sub = X_train_b, y_train_b\n",
        "\n",
        "tabpfn_binary = TabPFNClassifier(device=device)\n",
        "print(\"Training binary TabPFN...\")\n",
        "tabpfn_binary.fit(X_train_b_sub.values, y_train_b_sub)\n",
        "\n",
        "y_pred_b = tabpfn_binary.predict(X_test_b.values)\n",
        "accuracy_b = accuracy_score(y_test_b, y_pred_b)\n",
        "balanced_acc_b = balanced_accuracy_score(y_test_b, y_pred_b)\n",
        "\n",
        "print(f\"Binary Accuracy: {accuracy_b:.3f}\")\n",
        "print(f\"Balanced Accuracy: {balanced_acc_b:.3f}\")\n"
      ],
      "metadata": {
        "colab": {
          "base_uri": "https://localhost:8080/"
        },
        "id": "T9Epo2jGLxl8",
        "outputId": "37dce6bd-0ff3-4c41-f8ed-d7341f3cbc18"
      },
      "execution_count": 14,
      "outputs": [
        {
          "output_type": "stream",
          "name": "stdout",
          "text": [
            "\n",
            "==================================================\n",
            "STRATEGY 2: BINARY CLASSIFICATION\n",
            "==================================================\n",
            "Training binary TabPFN...\n",
            "Binary Accuracy: 0.849\n",
            "Balanced Accuracy: 0.609\n"
          ]
        }
      ]
    },
    {
      "cell_type": "code",
      "source": [
        "# Binary Confusion Matrix\n",
        "plt.figure(figsize=(8, 6))\n",
        "cm_b = confusion_matrix(y_test_b, y_pred_b)\n",
        "sns.heatmap(cm_b, annot=True, fmt='d', cmap='Blues', xticklabels=['Non-Planet', 'Planet'], yticklabels=['Non-Planet', 'Planet'])\n",
        "plt.title('Confusion Matrix - Binary')\n",
        "plt.tight_layout()\n",
        "plt.show()\n"
      ],
      "metadata": {
        "colab": {
          "base_uri": "https://localhost:8080/",
          "height": 607
        },
        "id": "kOtlBLyqMG8l",
        "outputId": "6b2e15ea-0ecf-47e3-c18c-547b04864a0e"
      },
      "execution_count": 15,
      "outputs": [
        {
          "output_type": "display_data",
          "data": {
            "text/plain": [
              "<Figure size 800x600 with 2 Axes>"
            ],
            "image/png": "[encoded data removed]"
          },
          "metadata": {}
        }
      ]
    },
    {
      "cell_type": "code",
      "source": [
        "# ==============================\n",
        "# Save Model\n",
        "# ==============================\n",
        "model_artifact = {\n",
        "    'model': tabpfn_binary,\n",
        "    'feature_columns': list(X_imputed.columns),\n",
        "    'imputer': imputer,\n",
        "    'is_binary': True,\n",
        "    'accuracy': accuracy_b,\n",
        "    'balanced_accuracy': balanced_acc_b\n",
        "}\n",
        "\n",
        "with open('tabpfn_binary_model.pkl', 'wb') as f:\n",
        "    pickle.dump(model_artifact, f)\n",
        "\n",
        "print(\"\\n✅ Model saved to 'tabpfn_binary_model.pkl'\")\n"
      ],
      "metadata": {
        "colab": {
          "base_uri": "https://localhost:8080/"
        },
        "id": "eNMssjlnMUSk",
        "outputId": "f9b23dd5-ba97-4e5d-9169-9387e1b120d5"
      },
      "execution_count": 16,
      "outputs": [
        {
          "output_type": "stream",
          "name": "stdout",
          "text": [
            "\n",
            "✅ Model saved to 'tabpfn_binary_model.pkl'\n"
          ]
        }
      ]
    },
    {
      "cell_type": "code",
      "source": [
        "# ==============================\n",
        "# Final Summary\n",
        "# ==============================\n",
        "summary = f\"\"\"\n",
        "TESS TOI Classification Results:\n",
        "- Device: {device}\n",
        "- Samples: {len(X_imputed)}\n",
        "- Features: {len(features_to_use)}\n",
        "- Planet fraction: {y_binary.mean():.1%}\n",
        "- Binary Accuracy: {accuracy_b:.1%}\n",
        "- Top feature: {feat_imp_df.iloc[0]['feature']}\n",
        "\"\"\"\n",
        "print(\"\\n\" + \"=\"*50)\n",
        "print(\"SUMMARY\")\n",
        "print(\"=\"*50)\n",
        "print(summary)"
      ],
      "metadata": {
        "colab": {
          "base_uri": "https://localhost:8080/"
        },
        "id": "kSP6N1D1NEdk",
        "outputId": "e0c1f078-9bce-478d-abff-dc98d118fb55"
      },
      "execution_count": 17,
      "outputs": [
        {
          "output_type": "stream",
          "name": "stdout",
          "text": [
            "\n",
            "==================================================\n",
            "SUMMARY\n",
            "==================================================\n",
            "\n",
            "TESS TOI Classification Results:\n",
            "- Device: cuda\n",
            "- Samples: 7699\n",
            "- Features: 6\n",
            "- Planet fraction: 83.2%\n",
            "- Binary Accuracy: 84.9%\n",
            "- Top feature: pl_eqt\n",
            "\n"
          ]
        }
      ]
    },
    {
      "cell_type": "code",
      "source": [],
      "metadata": {
        "id": "KeXQwtLsOdJ3"
      },
      "execution_count": null,
      "outputs": []
    }
  ]
}